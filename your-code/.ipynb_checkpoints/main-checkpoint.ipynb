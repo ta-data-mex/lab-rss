{
 "cells": [
  {
   "cell_type": "markdown",
   "metadata": {},
   "source": [
    "# Working with RSS Feeds Lab\n",
    "\n",
    "Complete the following set of exercises to solidify your knowledge of parsing RSS feeds and extracting information from them."
   ]
  },
  {
   "cell_type": "code",
   "execution_count": 2,
   "metadata": {},
   "outputs": [
    {
     "name": "stdout",
     "output_type": "stream",
     "text": [
      "Defaulting to user installation because normal site-packages is not writeable\n",
      "Collecting feedparser\n",
      "  Downloading feedparser-6.0.8-py3-none-any.whl (81 kB)\n",
      "\u001b[K     |████████████████████████████████| 81 kB 895 kB/s eta 0:00:01\n",
      "\u001b[?25hCollecting sgmllib3k\n",
      "  Downloading sgmllib3k-1.0.0.tar.gz (5.8 kB)\n",
      "Using legacy 'setup.py install' for sgmllib3k, since package 'wheel' is not installed.\n",
      "Installing collected packages: sgmllib3k, feedparser\n",
      "    Running setup.py install for sgmllib3k ... \u001b[?25ldone\n",
      "\u001b[?25hSuccessfully installed feedparser-6.0.8 sgmllib3k-1.0.0\n"
     ]
    }
   ],
   "source": [
    "!pip install feedparser"
   ]
  },
  {
   "cell_type": "code",
   "execution_count": 3,
   "metadata": {},
   "outputs": [],
   "source": [
    "import feedparser"
   ]
  },
  {
   "cell_type": "markdown",
   "metadata": {},
   "source": [
    "### 1. Use feedparser to parse the following RSS feed URL."
   ]
  },
  {
   "cell_type": "code",
   "execution_count": 4,
   "metadata": {},
   "outputs": [],
   "source": [
    "url = 'http://feeds.feedburner.com/oreilly/radar/atom'"
   ]
  },
  {
   "cell_type": "code",
   "execution_count": 9,
   "metadata": {},
   "outputs": [],
   "source": [
    "d = feedparser.parse(url)\n"
   ]
  },
  {
   "cell_type": "markdown",
   "metadata": {},
   "source": [
    "### 2. Obtain a list of components (keys) that are available for this feed."
   ]
  },
  {
   "cell_type": "code",
   "execution_count": 10,
   "metadata": {},
   "outputs": [
    {
     "data": {
      "text/plain": [
       "dict_keys(['bozo', 'entries', 'feed', 'headers', 'etag', 'updated', 'updated_parsed', 'href', 'status', 'encoding', 'version', 'namespaces'])"
      ]
     },
     "execution_count": 10,
     "metadata": {},
     "output_type": "execute_result"
    }
   ],
   "source": [
    "d.keys()"
   ]
  },
  {
   "cell_type": "markdown",
   "metadata": {},
   "source": [
    "### 3. Obtain a list of components (keys) that are available for the *feed* component of this RSS feed."
   ]
  },
  {
   "cell_type": "code",
   "execution_count": 42,
   "metadata": {},
   "outputs": [
    {
     "data": {
      "text/plain": [
       "dict_keys(['bozo', 'entries', 'feed', 'headers', 'etag', 'updated', 'updated_parsed', 'href', 'status', 'encoding', 'version', 'namespaces'])"
      ]
     },
     "execution_count": 42,
     "metadata": {},
     "output_type": "execute_result"
    }
   ],
   "source": [
    "d.keys()"
   ]
  },
  {
   "cell_type": "code",
   "execution_count": 78,
   "metadata": {},
   "outputs": [
    {
     "data": {
      "text/plain": [
       "dict_keys(['title', 'title_detail', 'links', 'link', 'comments', 'published', 'published_parsed', 'authors', 'author', 'author_detail', 'tags', 'id', 'guidislink', 'summary', 'summary_detail', 'content', 'wfw_commentrss', 'slash_comments', 'feedburner_origlink'])"
      ]
     },
     "execution_count": 78,
     "metadata": {},
     "output_type": "execute_result"
    }
   ],
   "source": [
    "d.entries[15].keys()"
   ]
  },
  {
   "cell_type": "code",
   "execution_count": 184,
   "metadata": {},
   "outputs": [
    {
     "data": {
      "text/plain": [
       "dict_keys(['title', 'title_detail', 'links', 'link', 'subtitle', 'subtitle_detail', 'updated', 'updated_parsed', 'language', 'sy_updateperiod', 'sy_updatefrequency', 'generator_detail', 'generator', 'feedburner_info', 'geo_lat', 'geo_long', 'feedburner_emailserviceid', 'feedburner_feedburnerhostname'])"
      ]
     },
     "execution_count": 184,
     "metadata": {},
     "output_type": "execute_result"
    }
   ],
   "source": [
    "d.feed.keys()"
   ]
  },
  {
   "cell_type": "markdown",
   "metadata": {},
   "source": [
    "### 4. Extract and print the feed title, subtitle, author, and link."
   ]
  },
  {
   "cell_type": "code",
   "execution_count": 124,
   "metadata": {},
   "outputs": [
    {
     "name": "stdout",
     "output_type": "stream",
     "text": [
      "feed: Radar \n",
      "subtitle: Now, next, and beyond: Tracking need-to-know trends at the intersection of business and technology \n",
      "author: Mike Loukides \n",
      "link: https://www.oreilly.com/radar\n"
     ]
    }
   ],
   "source": [
    "title = d.feed.title\n",
    "subtitle = d.feed.subtitle\n",
    "author = d.entries[0].author\n",
    "link = d.feed.link\n",
    "print(f'feed: {title} \\nsubtitle: {subtitle} \\nauthor: {author} \\nlink: {link}')\n"
   ]
  },
  {
   "cell_type": "markdown",
   "metadata": {},
   "source": [
    "### 5. Count the number of entries that are contained in this RSS feed."
   ]
  },
  {
   "cell_type": "code",
   "execution_count": 49,
   "metadata": {},
   "outputs": [
    {
     "data": {
      "text/plain": [
       "60"
      ]
     },
     "execution_count": 49,
     "metadata": {},
     "output_type": "execute_result"
    }
   ],
   "source": [
    "len(d.entries)"
   ]
  },
  {
   "cell_type": "markdown",
   "metadata": {},
   "source": [
    "### 6. Obtain a list of components (keys) available for an entry.\n",
    "\n",
    "*Hint: Remember to index first before requesting the keys*"
   ]
  },
  {
   "cell_type": "code",
   "execution_count": 142,
   "metadata": {},
   "outputs": [
    {
     "data": {
      "text/plain": [
       "['title',\n",
       " 'title_detail',\n",
       " 'links',\n",
       " 'link',\n",
       " 'comments',\n",
       " 'published',\n",
       " 'published_parsed',\n",
       " 'authors',\n",
       " 'author',\n",
       " 'author_detail',\n",
       " 'tags',\n",
       " 'id',\n",
       " 'guidislink',\n",
       " 'summary',\n",
       " 'summary_detail',\n",
       " 'content',\n",
       " 'wfw_commentrss',\n",
       " 'slash_comments',\n",
       " 'feedburner_origlink']"
      ]
     },
     "execution_count": 142,
     "metadata": {},
     "output_type": "execute_result"
    }
   ],
   "source": [
    "components = list(d.entries[0].keys())\n",
    "components\n"
   ]
  },
  {
   "cell_type": "markdown",
   "metadata": {},
   "source": [
    "### 7. Extract a list of entry titles."
   ]
  },
  {
   "cell_type": "code",
   "execution_count": 143,
   "metadata": {},
   "outputs": [
    {
     "data": {
      "text/plain": [
       "['Radar trends to watch: July 2021',\n",
       " 'Hand Labeling Considered Harmful',\n",
       " 'Two economies. Two sets of rules.',\n",
       " 'Communal Computing',\n",
       " 'Code as Infrastructure',\n",
       " 'Radar trends to watch: June 2021',\n",
       " 'AI Powered Misinformation and Manipulation at Scale #GPT-3',\n",
       " 'DeepCheapFakes',\n",
       " 'Radar trends to watch: May 2021',\n",
       " 'Checking Jeff Bezos’s Math',\n",
       " 'AI Adoption in the Enterprise 2021',\n",
       " 'NFTs: Owning Digital Art',\n",
       " 'Radar trends to watch: April 2021',\n",
       " 'InfoTribes, Reality Brokers',\n",
       " 'The End of Silicon Valley as We Know It?',\n",
       " 'The Next Generation of AI',\n",
       " 'Radar trends to watch: March 2021',\n",
       " 'Product Management for AI',\n",
       " '5 things on our data and AI radar for 2021',\n",
       " '5 infrastructure and operations trends to watch in 2021',\n",
       " 'The Wrong Question',\n",
       " 'Radar trends to watch: February 2021',\n",
       " 'Where Programming, Ops, AI, and the Cloud are Headed in 2021',\n",
       " 'Seven Legal Questions for Data Scientists',\n",
       " 'Patterns',\n",
       " 'Radar trends to watch: January 2021',\n",
       " 'Four short links: 14 Dec 2020',\n",
       " 'Four short links: 8 Dec 2020',\n",
       " 'O’Reilly’s top 20 live online training courses of 2020',\n",
       " 'What is functional programming?',\n",
       " 'Four short links: 4 Dec 2020',\n",
       " 'Four short links: 1 Dec 2020',\n",
       " 'Radar trends to watch: December 2020',\n",
       " 'Four short links: 27 Nov 2020',\n",
       " 'Four short links: 24 Nov 2020',\n",
       " 'Four short links: 20 Nov 2020',\n",
       " 'On Exactitude in Technical Debt',\n",
       " 'Four short links: 17 Nov 2020',\n",
       " 'Four short links: 13 Nov 2020',\n",
       " 'Multi-Paradigm Languages',\n",
       " 'Four short links: 10 November 2020',\n",
       " 'Four short links: 6 Nov 2020',\n",
       " 'Four short links: 4 Nov 2020',\n",
       " 'Radar trends to watch: November 2020',\n",
       " 'Four short links: 30 Oct 2020',\n",
       " 'Four short links: 28 Oct 2020',\n",
       " 'Our Favorite Questions',\n",
       " 'Four short links: 21 Oct 2020',\n",
       " 'Four Short Links: 16 October 2020',\n",
       " 'Four short links: 14 Oct 2020',\n",
       " 'AI Product Management After Deployment',\n",
       " 'Four short links: 9 October 2020',\n",
       " 'AI and Creativity',\n",
       " 'Four short links: 6 October 2020',\n",
       " 'Four short links: 2 October 2020',\n",
       " 'Radar trends to watch: October 2020',\n",
       " 'Four short links: 29 Sep 2020',\n",
       " 'Four short links: 25 September 2020',\n",
       " 'Four short links: 18 Sep 2020',\n",
       " 'Four short links: 16 Sep 2020']"
      ]
     },
     "execution_count": 143,
     "metadata": {},
     "output_type": "execute_result"
    }
   ],
   "source": [
    "titles = []\n",
    "\n",
    "for i in d.entries:\n",
    "    titles.append(i.title) \n",
    "titles"
   ]
  },
  {
   "cell_type": "markdown",
   "metadata": {},
   "source": [
    "### 8. Calculate the percentage of \"Four short links\" entry titles."
   ]
  },
  {
   "cell_type": "code",
   "execution_count": 154,
   "metadata": {},
   "outputs": [
    {
     "name": "stdout",
     "output_type": "stream",
     "text": [
      "Percentage:  38.3333 %\n"
     ]
    }
   ],
   "source": [
    "short_links = []\n",
    "\n",
    "for i in titles:\n",
    "    if i.startswith('Four short links'):\n",
    "        short_links.append(i)\n",
    "\n",
    "p = len(short_links)/len(titles)\n",
    "\n",
    "print('Percentage: ',str(round(p*100,4)) + ' ' + '%')"
   ]
  },
  {
   "cell_type": "markdown",
   "metadata": {},
   "source": [
    "### 9. Create a Pandas data frame from the feed's entries."
   ]
  },
  {
   "cell_type": "code",
   "execution_count": 155,
   "metadata": {},
   "outputs": [],
   "source": [
    "import pandas as pd"
   ]
  },
  {
   "cell_type": "code",
   "execution_count": 185,
   "metadata": {},
   "outputs": [
    {
     "data": {
      "text/html": [
       "<div>\n",
       "<style scoped>\n",
       "    .dataframe tbody tr th:only-of-type {\n",
       "        vertical-align: middle;\n",
       "    }\n",
       "\n",
       "    .dataframe tbody tr th {\n",
       "        vertical-align: top;\n",
       "    }\n",
       "\n",
       "    .dataframe thead th {\n",
       "        text-align: right;\n",
       "    }\n",
       "</style>\n",
       "<table border=\"1\" class=\"dataframe\">\n",
       "  <thead>\n",
       "    <tr style=\"text-align: right;\">\n",
       "      <th></th>\n",
       "      <th>title</th>\n",
       "      <th>links</th>\n",
       "      <th>link</th>\n",
       "      <th>comments</th>\n",
       "      <th>published</th>\n",
       "      <th>published_parsed</th>\n",
       "      <th>authors</th>\n",
       "      <th>author</th>\n",
       "      <th>tags</th>\n",
       "      <th>id</th>\n",
       "      <th>...</th>\n",
       "      <th>feedburner_origlink</th>\n",
       "      <th>title_detail.type</th>\n",
       "      <th>title_detail.language</th>\n",
       "      <th>title_detail.base</th>\n",
       "      <th>title_detail.value</th>\n",
       "      <th>author_detail.name</th>\n",
       "      <th>summary_detail.type</th>\n",
       "      <th>summary_detail.language</th>\n",
       "      <th>summary_detail.base</th>\n",
       "      <th>summary_detail.value</th>\n",
       "    </tr>\n",
       "  </thead>\n",
       "  <tbody>\n",
       "    <tr>\n",
       "      <th>0</th>\n",
       "      <td>Radar trends to watch: July 2021</td>\n",
       "      <td>[{'rel': 'alternate', 'type': 'text/html', 'hr...</td>\n",
       "      <td>http://feedproxy.google.com/~r/oreilly/radar/a...</td>\n",
       "      <td>https://www.oreilly.com/radar/radar-trends-to-...</td>\n",
       "      <td>Tue, 06 Jul 2021 17:12:56 +0000</td>\n",
       "      <td>(2021, 7, 6, 17, 12, 56, 1, 187, 0)</td>\n",
       "      <td>[{'name': 'Mike Loukides'}]</td>\n",
       "      <td>Mike Loukides</td>\n",
       "      <td>[{'term': 'Radar Trends', 'scheme': None, 'lab...</td>\n",
       "      <td>https://www.oreilly.com/radar/?p=13856</td>\n",
       "      <td>...</td>\n",
       "      <td>https://www.oreilly.com/radar/radar-trends-to-...</td>\n",
       "      <td>text/plain</td>\n",
       "      <td>None</td>\n",
       "      <td>http://feeds.feedburner.com/oreilly/radar/atom</td>\n",
       "      <td>Radar trends to watch: July 2021</td>\n",
       "      <td>Mike Loukides</td>\n",
       "      <td>text/html</td>\n",
       "      <td>None</td>\n",
       "      <td>http://feeds.feedburner.com/oreilly/radar/atom</td>\n",
       "      <td>Certainly the biggest news of the past month h...</td>\n",
       "    </tr>\n",
       "    <tr>\n",
       "      <th>1</th>\n",
       "      <td>Hand Labeling Considered Harmful</td>\n",
       "      <td>[{'rel': 'alternate', 'type': 'text/html', 'hr...</td>\n",
       "      <td>http://feedproxy.google.com/~r/oreilly/radar/a...</td>\n",
       "      <td>https://www.oreilly.com/radar/arguments-agains...</td>\n",
       "      <td>Wed, 23 Jun 2021 12:34:40 +0000</td>\n",
       "      <td>(2021, 6, 23, 12, 34, 40, 2, 174, 0)</td>\n",
       "      <td>[{'name': 'Shayan Mohanty and Hugo Bowne-Ander...</td>\n",
       "      <td>Shayan Mohanty and Hugo Bowne-Anderson</td>\n",
       "      <td>[{'term': 'Artificial Intelligence', 'scheme':...</td>\n",
       "      <td>https://www.oreilly.com/radar/?p=13825</td>\n",
       "      <td>...</td>\n",
       "      <td>https://www.oreilly.com/radar/arguments-agains...</td>\n",
       "      <td>text/plain</td>\n",
       "      <td>None</td>\n",
       "      <td>http://feeds.feedburner.com/oreilly/radar/atom</td>\n",
       "      <td>Hand Labeling Considered Harmful</td>\n",
       "      <td>Shayan Mohanty and Hugo Bowne-Anderson</td>\n",
       "      <td>text/html</td>\n",
       "      <td>None</td>\n",
       "      <td>http://feeds.feedburner.com/oreilly/radar/atom</td>\n",
       "      <td>We are traveling through the era of Software 2...</td>\n",
       "    </tr>\n",
       "    <tr>\n",
       "      <th>2</th>\n",
       "      <td>Two economies. Two sets of rules.</td>\n",
       "      <td>[{'rel': 'alternate', 'type': 'text/html', 'hr...</td>\n",
       "      <td>http://feedproxy.google.com/~r/oreilly/radar/a...</td>\n",
       "      <td>https://www.oreilly.com/radar/two-economies-tw...</td>\n",
       "      <td>Tue, 22 Jun 2021 13:07:19 +0000</td>\n",
       "      <td>(2021, 6, 22, 13, 7, 19, 1, 173, 0)</td>\n",
       "      <td>[{'name': 'Tim O’Reilly'}]</td>\n",
       "      <td>Tim O’Reilly</td>\n",
       "      <td>[{'term': 'Bubbles', 'scheme': None, 'label': ...</td>\n",
       "      <td>https://www.oreilly.com/radar/?p=13820</td>\n",
       "      <td>...</td>\n",
       "      <td>https://www.oreilly.com/radar/two-economies-tw...</td>\n",
       "      <td>text/plain</td>\n",
       "      <td>None</td>\n",
       "      <td>http://feeds.feedburner.com/oreilly/radar/atom</td>\n",
       "      <td>Two economies. Two sets of rules.</td>\n",
       "      <td>Tim O’Reilly</td>\n",
       "      <td>text/html</td>\n",
       "      <td>None</td>\n",
       "      <td>http://feeds.feedburner.com/oreilly/radar/atom</td>\n",
       "      <td>At one point early this year, Elon Musk briefl...</td>\n",
       "    </tr>\n",
       "    <tr>\n",
       "      <th>3</th>\n",
       "      <td>Communal Computing</td>\n",
       "      <td>[{'rel': 'alternate', 'type': 'text/html', 'hr...</td>\n",
       "      <td>http://feedproxy.google.com/~r/oreilly/radar/a...</td>\n",
       "      <td>https://www.oreilly.com/radar/communal-computi...</td>\n",
       "      <td>Tue, 15 Jun 2021 11:27:36 +0000</td>\n",
       "      <td>(2021, 6, 15, 11, 27, 36, 1, 166, 0)</td>\n",
       "      <td>[{'name': 'Chris Butler'}]</td>\n",
       "      <td>Chris Butler</td>\n",
       "      <td>[{'term': 'AI &amp; ML', 'scheme': None, 'label': ...</td>\n",
       "      <td>https://www.oreilly.com/radar/?p=13812</td>\n",
       "      <td>...</td>\n",
       "      <td>https://www.oreilly.com/radar/communal-computing/</td>\n",
       "      <td>text/plain</td>\n",
       "      <td>None</td>\n",
       "      <td>http://feeds.feedburner.com/oreilly/radar/atom</td>\n",
       "      <td>Communal Computing</td>\n",
       "      <td>Chris Butler</td>\n",
       "      <td>text/html</td>\n",
       "      <td>None</td>\n",
       "      <td>http://feeds.feedburner.com/oreilly/radar/atom</td>\n",
       "      <td>Home assistants and smart displays are being s...</td>\n",
       "    </tr>\n",
       "    <tr>\n",
       "      <th>4</th>\n",
       "      <td>Code as Infrastructure</td>\n",
       "      <td>[{'rel': 'alternate', 'type': 'text/html', 'hr...</td>\n",
       "      <td>http://feedproxy.google.com/~r/oreilly/radar/a...</td>\n",
       "      <td>https://www.oreilly.com/radar/code-as-infrastr...</td>\n",
       "      <td>Tue, 08 Jun 2021 13:22:32 +0000</td>\n",
       "      <td>(2021, 6, 8, 13, 22, 32, 1, 159, 0)</td>\n",
       "      <td>[{'name': 'Mike Loukides'}]</td>\n",
       "      <td>Mike Loukides</td>\n",
       "      <td>[{'term': 'Infrastructure', 'scheme': None, 'l...</td>\n",
       "      <td>https://www.oreilly.com/radar/?p=13808</td>\n",
       "      <td>...</td>\n",
       "      <td>https://www.oreilly.com/radar/code-as-infrastr...</td>\n",
       "      <td>text/plain</td>\n",
       "      <td>None</td>\n",
       "      <td>http://feeds.feedburner.com/oreilly/radar/atom</td>\n",
       "      <td>Code as Infrastructure</td>\n",
       "      <td>Mike Loukides</td>\n",
       "      <td>text/html</td>\n",
       "      <td>None</td>\n",
       "      <td>http://feeds.feedburner.com/oreilly/radar/atom</td>\n",
       "      <td>A few months ago, I was asked if there were an...</td>\n",
       "    </tr>\n",
       "    <tr>\n",
       "      <th>5</th>\n",
       "      <td>Radar trends to watch: June 2021</td>\n",
       "      <td>[{'rel': 'alternate', 'type': 'text/html', 'hr...</td>\n",
       "      <td>http://feedproxy.google.com/~r/oreilly/radar/a...</td>\n",
       "      <td>https://www.oreilly.com/radar/radar-trends-to-...</td>\n",
       "      <td>Tue, 01 Jun 2021 13:45:05 +0000</td>\n",
       "      <td>(2021, 6, 1, 13, 45, 5, 1, 152, 0)</td>\n",
       "      <td>[{'name': 'Mike Loukides'}]</td>\n",
       "      <td>Mike Loukides</td>\n",
       "      <td>[{'term': 'Radar Trends', 'scheme': None, 'lab...</td>\n",
       "      <td>https://www.oreilly.com/radar/?p=13803</td>\n",
       "      <td>...</td>\n",
       "      <td>https://www.oreilly.com/radar/radar-trends-to-...</td>\n",
       "      <td>text/plain</td>\n",
       "      <td>None</td>\n",
       "      <td>http://feeds.feedburner.com/oreilly/radar/atom</td>\n",
       "      <td>Radar trends to watch: June 2021</td>\n",
       "      <td>Mike Loukides</td>\n",
       "      <td>text/html</td>\n",
       "      <td>None</td>\n",
       "      <td>http://feeds.feedburner.com/oreilly/radar/atom</td>\n",
       "      <td>The most fascinating idea this month is POET, ...</td>\n",
       "    </tr>\n",
       "    <tr>\n",
       "      <th>6</th>\n",
       "      <td>AI Powered Misinformation and Manipulation at ...</td>\n",
       "      <td>[{'rel': 'alternate', 'type': 'text/html', 'hr...</td>\n",
       "      <td>http://feedproxy.google.com/~r/oreilly/radar/a...</td>\n",
       "      <td>https://www.oreilly.com/radar/ai-powered-misin...</td>\n",
       "      <td>Tue, 25 May 2021 14:14:49 +0000</td>\n",
       "      <td>(2021, 5, 25, 14, 14, 49, 1, 145, 0)</td>\n",
       "      <td>[{'name': 'Nitesh Dhanjani'}]</td>\n",
       "      <td>Nitesh Dhanjani</td>\n",
       "      <td>[{'term': 'AI &amp; ML', 'scheme': None, 'label': ...</td>\n",
       "      <td>https://www.oreilly.com/radar/?p=13789</td>\n",
       "      <td>...</td>\n",
       "      <td>https://www.oreilly.com/radar/ai-powered-misin...</td>\n",
       "      <td>text/plain</td>\n",
       "      <td>None</td>\n",
       "      <td>http://feeds.feedburner.com/oreilly/radar/atom</td>\n",
       "      <td>AI Powered Misinformation and Manipulation at ...</td>\n",
       "      <td>Nitesh Dhanjani</td>\n",
       "      <td>text/html</td>\n",
       "      <td>None</td>\n",
       "      <td>http://feeds.feedburner.com/oreilly/radar/atom</td>\n",
       "      <td>OpenAI’s text generating system GPT-3 has capt...</td>\n",
       "    </tr>\n",
       "    <tr>\n",
       "      <th>7</th>\n",
       "      <td>DeepCheapFakes</td>\n",
       "      <td>[{'rel': 'alternate', 'type': 'text/html', 'hr...</td>\n",
       "      <td>http://feedproxy.google.com/~r/oreilly/radar/a...</td>\n",
       "      <td>https://www.oreilly.com/radar/deepcheapfakes/#...</td>\n",
       "      <td>Tue, 11 May 2021 11:58:37 +0000</td>\n",
       "      <td>(2021, 5, 11, 11, 58, 37, 1, 131, 0)</td>\n",
       "      <td>[{'name': 'Mike Loukides'}]</td>\n",
       "      <td>Mike Loukides</td>\n",
       "      <td>[{'term': 'Artificial Intelligence', 'scheme':...</td>\n",
       "      <td>https://www.oreilly.com/radar/?p=13768</td>\n",
       "      <td>...</td>\n",
       "      <td>https://www.oreilly.com/radar/deepcheapfakes/</td>\n",
       "      <td>text/plain</td>\n",
       "      <td>None</td>\n",
       "      <td>http://feeds.feedburner.com/oreilly/radar/atom</td>\n",
       "      <td>DeepCheapFakes</td>\n",
       "      <td>Mike Loukides</td>\n",
       "      <td>text/html</td>\n",
       "      <td>None</td>\n",
       "      <td>http://feeds.feedburner.com/oreilly/radar/atom</td>\n",
       "      <td>Back in 2019, Ben Lorica and I wrote about  de...</td>\n",
       "    </tr>\n",
       "    <tr>\n",
       "      <th>8</th>\n",
       "      <td>Radar trends to watch: May 2021</td>\n",
       "      <td>[{'rel': 'alternate', 'type': 'text/html', 'hr...</td>\n",
       "      <td>http://feedproxy.google.com/~r/oreilly/radar/a...</td>\n",
       "      <td>https://www.oreilly.com/radar/radar-trends-to-...</td>\n",
       "      <td>Mon, 03 May 2021 14:05:40 +0000</td>\n",
       "      <td>(2021, 5, 3, 14, 5, 40, 0, 123, 0)</td>\n",
       "      <td>[{'name': 'Mike Loukides'}]</td>\n",
       "      <td>Mike Loukides</td>\n",
       "      <td>[{'term': 'Radar Trends', 'scheme': None, 'lab...</td>\n",
       "      <td>https://www.oreilly.com/radar/?p=13755</td>\n",
       "      <td>...</td>\n",
       "      <td>https://www.oreilly.com/radar/radar-trends-to-...</td>\n",
       "      <td>text/plain</td>\n",
       "      <td>None</td>\n",
       "      <td>http://feeds.feedburner.com/oreilly/radar/atom</td>\n",
       "      <td>Radar trends to watch: May 2021</td>\n",
       "      <td>Mike Loukides</td>\n",
       "      <td>text/html</td>\n",
       "      <td>None</td>\n",
       "      <td>http://feeds.feedburner.com/oreilly/radar/atom</td>\n",
       "      <td>We’ll start with a moment of silence. RIP Dan ...</td>\n",
       "    </tr>\n",
       "    <tr>\n",
       "      <th>9</th>\n",
       "      <td>Checking Jeff Bezos’s Math</td>\n",
       "      <td>[{'rel': 'alternate', 'type': 'text/html', 'hr...</td>\n",
       "      <td>http://feedproxy.google.com/~r/oreilly/radar/a...</td>\n",
       "      <td>https://www.oreilly.com/radar/checking-jeff-be...</td>\n",
       "      <td>Fri, 23 Apr 2021 20:43:28 +0000</td>\n",
       "      <td>(2021, 4, 23, 20, 43, 28, 4, 113, 0)</td>\n",
       "      <td>[{'name': 'Tim O’Reilly'}]</td>\n",
       "      <td>Tim O’Reilly</td>\n",
       "      <td>[{'term': 'Business', 'scheme': None, 'label':...</td>\n",
       "      <td>https://www.oreilly.com/radar/?p=13748</td>\n",
       "      <td>...</td>\n",
       "      <td>https://www.oreilly.com/radar/checking-jeff-be...</td>\n",
       "      <td>text/plain</td>\n",
       "      <td>None</td>\n",
       "      <td>http://feeds.feedburner.com/oreilly/radar/atom</td>\n",
       "      <td>Checking Jeff Bezos’s Math</td>\n",
       "      <td>Tim O’Reilly</td>\n",
       "      <td>text/html</td>\n",
       "      <td>None</td>\n",
       "      <td>http://feeds.feedburner.com/oreilly/radar/atom</td>\n",
       "      <td>“If you want to be successful in business (in ...</td>\n",
       "    </tr>\n",
       "  </tbody>\n",
       "</table>\n",
       "<p>10 rows × 25 columns</p>\n",
       "</div>"
      ],
      "text/plain": [
       "                                               title  \\\n",
       "0                   Radar trends to watch: July 2021   \n",
       "1                   Hand Labeling Considered Harmful   \n",
       "2                  Two economies. Two sets of rules.   \n",
       "3                                 Communal Computing   \n",
       "4                             Code as Infrastructure   \n",
       "5                   Radar trends to watch: June 2021   \n",
       "6  AI Powered Misinformation and Manipulation at ...   \n",
       "7                                     DeepCheapFakes   \n",
       "8                    Radar trends to watch: May 2021   \n",
       "9                         Checking Jeff Bezos’s Math   \n",
       "\n",
       "                                               links  \\\n",
       "0  [{'rel': 'alternate', 'type': 'text/html', 'hr...   \n",
       "1  [{'rel': 'alternate', 'type': 'text/html', 'hr...   \n",
       "2  [{'rel': 'alternate', 'type': 'text/html', 'hr...   \n",
       "3  [{'rel': 'alternate', 'type': 'text/html', 'hr...   \n",
       "4  [{'rel': 'alternate', 'type': 'text/html', 'hr...   \n",
       "5  [{'rel': 'alternate', 'type': 'text/html', 'hr...   \n",
       "6  [{'rel': 'alternate', 'type': 'text/html', 'hr...   \n",
       "7  [{'rel': 'alternate', 'type': 'text/html', 'hr...   \n",
       "8  [{'rel': 'alternate', 'type': 'text/html', 'hr...   \n",
       "9  [{'rel': 'alternate', 'type': 'text/html', 'hr...   \n",
       "\n",
       "                                                link  \\\n",
       "0  http://feedproxy.google.com/~r/oreilly/radar/a...   \n",
       "1  http://feedproxy.google.com/~r/oreilly/radar/a...   \n",
       "2  http://feedproxy.google.com/~r/oreilly/radar/a...   \n",
       "3  http://feedproxy.google.com/~r/oreilly/radar/a...   \n",
       "4  http://feedproxy.google.com/~r/oreilly/radar/a...   \n",
       "5  http://feedproxy.google.com/~r/oreilly/radar/a...   \n",
       "6  http://feedproxy.google.com/~r/oreilly/radar/a...   \n",
       "7  http://feedproxy.google.com/~r/oreilly/radar/a...   \n",
       "8  http://feedproxy.google.com/~r/oreilly/radar/a...   \n",
       "9  http://feedproxy.google.com/~r/oreilly/radar/a...   \n",
       "\n",
       "                                            comments  \\\n",
       "0  https://www.oreilly.com/radar/radar-trends-to-...   \n",
       "1  https://www.oreilly.com/radar/arguments-agains...   \n",
       "2  https://www.oreilly.com/radar/two-economies-tw...   \n",
       "3  https://www.oreilly.com/radar/communal-computi...   \n",
       "4  https://www.oreilly.com/radar/code-as-infrastr...   \n",
       "5  https://www.oreilly.com/radar/radar-trends-to-...   \n",
       "6  https://www.oreilly.com/radar/ai-powered-misin...   \n",
       "7  https://www.oreilly.com/radar/deepcheapfakes/#...   \n",
       "8  https://www.oreilly.com/radar/radar-trends-to-...   \n",
       "9  https://www.oreilly.com/radar/checking-jeff-be...   \n",
       "\n",
       "                         published                      published_parsed  \\\n",
       "0  Tue, 06 Jul 2021 17:12:56 +0000   (2021, 7, 6, 17, 12, 56, 1, 187, 0)   \n",
       "1  Wed, 23 Jun 2021 12:34:40 +0000  (2021, 6, 23, 12, 34, 40, 2, 174, 0)   \n",
       "2  Tue, 22 Jun 2021 13:07:19 +0000   (2021, 6, 22, 13, 7, 19, 1, 173, 0)   \n",
       "3  Tue, 15 Jun 2021 11:27:36 +0000  (2021, 6, 15, 11, 27, 36, 1, 166, 0)   \n",
       "4  Tue, 08 Jun 2021 13:22:32 +0000   (2021, 6, 8, 13, 22, 32, 1, 159, 0)   \n",
       "5  Tue, 01 Jun 2021 13:45:05 +0000    (2021, 6, 1, 13, 45, 5, 1, 152, 0)   \n",
       "6  Tue, 25 May 2021 14:14:49 +0000  (2021, 5, 25, 14, 14, 49, 1, 145, 0)   \n",
       "7  Tue, 11 May 2021 11:58:37 +0000  (2021, 5, 11, 11, 58, 37, 1, 131, 0)   \n",
       "8  Mon, 03 May 2021 14:05:40 +0000    (2021, 5, 3, 14, 5, 40, 0, 123, 0)   \n",
       "9  Fri, 23 Apr 2021 20:43:28 +0000  (2021, 4, 23, 20, 43, 28, 4, 113, 0)   \n",
       "\n",
       "                                             authors  \\\n",
       "0                        [{'name': 'Mike Loukides'}]   \n",
       "1  [{'name': 'Shayan Mohanty and Hugo Bowne-Ander...   \n",
       "2                         [{'name': 'Tim O’Reilly'}]   \n",
       "3                         [{'name': 'Chris Butler'}]   \n",
       "4                        [{'name': 'Mike Loukides'}]   \n",
       "5                        [{'name': 'Mike Loukides'}]   \n",
       "6                      [{'name': 'Nitesh Dhanjani'}]   \n",
       "7                        [{'name': 'Mike Loukides'}]   \n",
       "8                        [{'name': 'Mike Loukides'}]   \n",
       "9                         [{'name': 'Tim O’Reilly'}]   \n",
       "\n",
       "                                   author  \\\n",
       "0                           Mike Loukides   \n",
       "1  Shayan Mohanty and Hugo Bowne-Anderson   \n",
       "2                            Tim O’Reilly   \n",
       "3                            Chris Butler   \n",
       "4                           Mike Loukides   \n",
       "5                           Mike Loukides   \n",
       "6                         Nitesh Dhanjani   \n",
       "7                           Mike Loukides   \n",
       "8                           Mike Loukides   \n",
       "9                            Tim O’Reilly   \n",
       "\n",
       "                                                tags  \\\n",
       "0  [{'term': 'Radar Trends', 'scheme': None, 'lab...   \n",
       "1  [{'term': 'Artificial Intelligence', 'scheme':...   \n",
       "2  [{'term': 'Bubbles', 'scheme': None, 'label': ...   \n",
       "3  [{'term': 'AI & ML', 'scheme': None, 'label': ...   \n",
       "4  [{'term': 'Infrastructure', 'scheme': None, 'l...   \n",
       "5  [{'term': 'Radar Trends', 'scheme': None, 'lab...   \n",
       "6  [{'term': 'AI & ML', 'scheme': None, 'label': ...   \n",
       "7  [{'term': 'Artificial Intelligence', 'scheme':...   \n",
       "8  [{'term': 'Radar Trends', 'scheme': None, 'lab...   \n",
       "9  [{'term': 'Business', 'scheme': None, 'label':...   \n",
       "\n",
       "                                       id  ...  \\\n",
       "0  https://www.oreilly.com/radar/?p=13856  ...   \n",
       "1  https://www.oreilly.com/radar/?p=13825  ...   \n",
       "2  https://www.oreilly.com/radar/?p=13820  ...   \n",
       "3  https://www.oreilly.com/radar/?p=13812  ...   \n",
       "4  https://www.oreilly.com/radar/?p=13808  ...   \n",
       "5  https://www.oreilly.com/radar/?p=13803  ...   \n",
       "6  https://www.oreilly.com/radar/?p=13789  ...   \n",
       "7  https://www.oreilly.com/radar/?p=13768  ...   \n",
       "8  https://www.oreilly.com/radar/?p=13755  ...   \n",
       "9  https://www.oreilly.com/radar/?p=13748  ...   \n",
       "\n",
       "                                 feedburner_origlink title_detail.type  \\\n",
       "0  https://www.oreilly.com/radar/radar-trends-to-...        text/plain   \n",
       "1  https://www.oreilly.com/radar/arguments-agains...        text/plain   \n",
       "2  https://www.oreilly.com/radar/two-economies-tw...        text/plain   \n",
       "3  https://www.oreilly.com/radar/communal-computing/        text/plain   \n",
       "4  https://www.oreilly.com/radar/code-as-infrastr...        text/plain   \n",
       "5  https://www.oreilly.com/radar/radar-trends-to-...        text/plain   \n",
       "6  https://www.oreilly.com/radar/ai-powered-misin...        text/plain   \n",
       "7      https://www.oreilly.com/radar/deepcheapfakes/        text/plain   \n",
       "8  https://www.oreilly.com/radar/radar-trends-to-...        text/plain   \n",
       "9  https://www.oreilly.com/radar/checking-jeff-be...        text/plain   \n",
       "\n",
       "  title_detail.language                               title_detail.base  \\\n",
       "0                  None  http://feeds.feedburner.com/oreilly/radar/atom   \n",
       "1                  None  http://feeds.feedburner.com/oreilly/radar/atom   \n",
       "2                  None  http://feeds.feedburner.com/oreilly/radar/atom   \n",
       "3                  None  http://feeds.feedburner.com/oreilly/radar/atom   \n",
       "4                  None  http://feeds.feedburner.com/oreilly/radar/atom   \n",
       "5                  None  http://feeds.feedburner.com/oreilly/radar/atom   \n",
       "6                  None  http://feeds.feedburner.com/oreilly/radar/atom   \n",
       "7                  None  http://feeds.feedburner.com/oreilly/radar/atom   \n",
       "8                  None  http://feeds.feedburner.com/oreilly/radar/atom   \n",
       "9                  None  http://feeds.feedburner.com/oreilly/radar/atom   \n",
       "\n",
       "                                  title_detail.value  \\\n",
       "0                   Radar trends to watch: July 2021   \n",
       "1                   Hand Labeling Considered Harmful   \n",
       "2                  Two economies. Two sets of rules.   \n",
       "3                                 Communal Computing   \n",
       "4                             Code as Infrastructure   \n",
       "5                   Radar trends to watch: June 2021   \n",
       "6  AI Powered Misinformation and Manipulation at ...   \n",
       "7                                     DeepCheapFakes   \n",
       "8                    Radar trends to watch: May 2021   \n",
       "9                         Checking Jeff Bezos’s Math   \n",
       "\n",
       "                       author_detail.name summary_detail.type  \\\n",
       "0                           Mike Loukides           text/html   \n",
       "1  Shayan Mohanty and Hugo Bowne-Anderson           text/html   \n",
       "2                            Tim O’Reilly           text/html   \n",
       "3                            Chris Butler           text/html   \n",
       "4                           Mike Loukides           text/html   \n",
       "5                           Mike Loukides           text/html   \n",
       "6                         Nitesh Dhanjani           text/html   \n",
       "7                           Mike Loukides           text/html   \n",
       "8                           Mike Loukides           text/html   \n",
       "9                            Tim O’Reilly           text/html   \n",
       "\n",
       "  summary_detail.language                             summary_detail.base  \\\n",
       "0                    None  http://feeds.feedburner.com/oreilly/radar/atom   \n",
       "1                    None  http://feeds.feedburner.com/oreilly/radar/atom   \n",
       "2                    None  http://feeds.feedburner.com/oreilly/radar/atom   \n",
       "3                    None  http://feeds.feedburner.com/oreilly/radar/atom   \n",
       "4                    None  http://feeds.feedburner.com/oreilly/radar/atom   \n",
       "5                    None  http://feeds.feedburner.com/oreilly/radar/atom   \n",
       "6                    None  http://feeds.feedburner.com/oreilly/radar/atom   \n",
       "7                    None  http://feeds.feedburner.com/oreilly/radar/atom   \n",
       "8                    None  http://feeds.feedburner.com/oreilly/radar/atom   \n",
       "9                    None  http://feeds.feedburner.com/oreilly/radar/atom   \n",
       "\n",
       "                                summary_detail.value  \n",
       "0  Certainly the biggest news of the past month h...  \n",
       "1  We are traveling through the era of Software 2...  \n",
       "2  At one point early this year, Elon Musk briefl...  \n",
       "3  Home assistants and smart displays are being s...  \n",
       "4  A few months ago, I was asked if there were an...  \n",
       "5  The most fascinating idea this month is POET, ...  \n",
       "6  OpenAI’s text generating system GPT-3 has capt...  \n",
       "7  Back in 2019, Ben Lorica and I wrote about  de...  \n",
       "8  We’ll start with a moment of silence. RIP Dan ...  \n",
       "9  “If you want to be successful in business (in ...  \n",
       "\n",
       "[10 rows x 25 columns]"
      ]
     },
     "execution_count": 185,
     "metadata": {},
     "output_type": "execute_result"
    }
   ],
   "source": [
    "df = pd.json_normalize(d.entries)\n",
    "df.head(10)"
   ]
  },
  {
   "cell_type": "markdown",
   "metadata": {},
   "source": [
    "### 10. Count the number of entries per author and sort them in descending order."
   ]
  },
  {
   "cell_type": "code",
   "execution_count": 180,
   "metadata": {},
   "outputs": [
    {
     "data": {
      "text/plain": [
       "author\n",
       "Nat Torkington                                    23\n",
       "Mike Loukides                                     22\n",
       "                                                   4\n",
       "Tim O’Reilly                                       3\n",
       "Chris Butler                                       1\n",
       "Hugo Bowne-Anderson                                1\n",
       "Justin Norman and Mike Loukides                    1\n",
       "Kevlin Henney                                      1\n",
       "Nitesh Dhanjani                                    1\n",
       "Patrick Hall and Ayoub Ouederni                    1\n",
       "Q Ethan McCallum, Chris Butler and Shane Glynn     1\n",
       "Shayan Mohanty and Hugo Bowne-Anderson             1\n",
       "Name: title, dtype: int64"
      ]
     },
     "execution_count": 180,
     "metadata": {},
     "output_type": "execute_result"
    }
   ],
   "source": [
    "df.groupby('author')['title'].count().sort_values(ascending=False)"
   ]
  },
  {
   "cell_type": "markdown",
   "metadata": {},
   "source": [
    "### 11. Add a new column to the data frame that contains the length (number of characters) of each entry title. Return a data frame that contains the title, author, and title length of each entry in descending order (longest title length at the top)."
   ]
  },
  {
   "cell_type": "code",
   "execution_count": 175,
   "metadata": {},
   "outputs": [
    {
     "data": {
      "text/html": [
       "<div>\n",
       "<style scoped>\n",
       "    .dataframe tbody tr th:only-of-type {\n",
       "        vertical-align: middle;\n",
       "    }\n",
       "\n",
       "    .dataframe tbody tr th {\n",
       "        vertical-align: top;\n",
       "    }\n",
       "\n",
       "    .dataframe thead th {\n",
       "        text-align: right;\n",
       "    }\n",
       "</style>\n",
       "<table border=\"1\" class=\"dataframe\">\n",
       "  <thead>\n",
       "    <tr style=\"text-align: right;\">\n",
       "      <th></th>\n",
       "      <th>title</th>\n",
       "      <th>author</th>\n",
       "      <th>length_title</th>\n",
       "    </tr>\n",
       "  </thead>\n",
       "  <tbody>\n",
       "    <tr>\n",
       "      <th>0</th>\n",
       "      <td>Where Programming, Ops, AI, and the Cloud are ...</td>\n",
       "      <td>Mike Loukides</td>\n",
       "      <td>60</td>\n",
       "    </tr>\n",
       "    <tr>\n",
       "      <th>1</th>\n",
       "      <td>AI Powered Misinformation and Manipulation at ...</td>\n",
       "      <td>Nitesh Dhanjani</td>\n",
       "      <td>58</td>\n",
       "    </tr>\n",
       "    <tr>\n",
       "      <th>2</th>\n",
       "      <td>5 infrastructure and operations trends to watc...</td>\n",
       "      <td></td>\n",
       "      <td>55</td>\n",
       "    </tr>\n",
       "    <tr>\n",
       "      <th>3</th>\n",
       "      <td>O’Reilly’s top 20 live online training courses...</td>\n",
       "      <td></td>\n",
       "      <td>54</td>\n",
       "    </tr>\n",
       "    <tr>\n",
       "      <th>4</th>\n",
       "      <td>5 things on our data and AI radar for 2021</td>\n",
       "      <td></td>\n",
       "      <td>42</td>\n",
       "    </tr>\n",
       "    <tr>\n",
       "      <th>5</th>\n",
       "      <td>Seven Legal Questions for Data Scientists</td>\n",
       "      <td>Patrick Hall and Ayoub Ouederni</td>\n",
       "      <td>41</td>\n",
       "    </tr>\n",
       "    <tr>\n",
       "      <th>6</th>\n",
       "      <td>The End of Silicon Valley as We Know It?</td>\n",
       "      <td>Tim O’Reilly</td>\n",
       "      <td>40</td>\n",
       "    </tr>\n",
       "    <tr>\n",
       "      <th>7</th>\n",
       "      <td>AI Product Management After Deployment</td>\n",
       "      <td>Justin Norman and Mike Loukides</td>\n",
       "      <td>38</td>\n",
       "    </tr>\n",
       "    <tr>\n",
       "      <th>8</th>\n",
       "      <td>Radar trends to watch: November 2020</td>\n",
       "      <td>Mike Loukides</td>\n",
       "      <td>36</td>\n",
       "    </tr>\n",
       "    <tr>\n",
       "      <th>9</th>\n",
       "      <td>Radar trends to watch: December 2020</td>\n",
       "      <td>Mike Loukides</td>\n",
       "      <td>36</td>\n",
       "    </tr>\n",
       "  </tbody>\n",
       "</table>\n",
       "</div>"
      ],
      "text/plain": [
       "                                               title  \\\n",
       "0  Where Programming, Ops, AI, and the Cloud are ...   \n",
       "1  AI Powered Misinformation and Manipulation at ...   \n",
       "2  5 infrastructure and operations trends to watc...   \n",
       "3  O’Reilly’s top 20 live online training courses...   \n",
       "4         5 things on our data and AI radar for 2021   \n",
       "5          Seven Legal Questions for Data Scientists   \n",
       "6           The End of Silicon Valley as We Know It?   \n",
       "7             AI Product Management After Deployment   \n",
       "8               Radar trends to watch: November 2020   \n",
       "9               Radar trends to watch: December 2020   \n",
       "\n",
       "                            author  length_title  \n",
       "0                    Mike Loukides            60  \n",
       "1                  Nitesh Dhanjani            58  \n",
       "2                                             55  \n",
       "3                                             54  \n",
       "4                                             42  \n",
       "5  Patrick Hall and Ayoub Ouederni            41  \n",
       "6                     Tim O’Reilly            40  \n",
       "7  Justin Norman and Mike Loukides            38  \n",
       "8                    Mike Loukides            36  \n",
       "9                    Mike Loukides            36  "
      ]
     },
     "execution_count": 175,
     "metadata": {},
     "output_type": "execute_result"
    }
   ],
   "source": [
    "df['length_title'] = df['title'].apply(lambda x: len(x))\n",
    "dg = df[['title','author','length_title']].sort_values(by='length_title',ascending=False)\n",
    "dg.reset_index(drop=True).head(10)"
   ]
  },
  {
   "cell_type": "markdown",
   "metadata": {},
   "source": [
    "### 12. Create a list of entry titles whose summary includes the phrase \"machine learning.\""
   ]
  },
  {
   "cell_type": "code",
   "execution_count": 183,
   "metadata": {},
   "outputs": [
    {
     "data": {
      "text/plain": [
       "['Hand Labeling Considered Harmful',\n",
       " 'Radar trends to watch: April 2021',\n",
       " 'Seven Legal Questions for Data Scientists']"
      ]
     },
     "execution_count": 183,
     "metadata": {},
     "output_type": "execute_result"
    }
   ],
   "source": [
    "list_ml = []\n",
    "for s in d.entries:\n",
    "    if 'machine learning' in s.summary:\n",
    "        list_ml.append(s.title)\n",
    "list_ml"
   ]
  }
 ],
 "metadata": {
  "kernelspec": {
   "display_name": "Python 3",
   "language": "python",
   "name": "python3"
  },
  "language_info": {
   "codemirror_mode": {
    "name": "ipython",
    "version": 3
   },
   "file_extension": ".py",
   "mimetype": "text/x-python",
   "name": "python",
   "nbconvert_exporter": "python",
   "pygments_lexer": "ipython3",
   "version": "3.9.5"
  }
 },
 "nbformat": 4,
 "nbformat_minor": 2
}
